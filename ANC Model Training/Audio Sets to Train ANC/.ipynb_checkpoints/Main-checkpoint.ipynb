{
 "cells": [
  {
   "cell_type": "code",
   "execution_count": 1,
   "metadata": {},
   "outputs": [],
   "source": [
    "import glob, os\n",
    "import numpy as np\n",
    "import librosa\n",
    "import soundfile as sf"
   ]
  },
  {
   "cell_type": "code",
   "execution_count": 2,
   "metadata": {},
   "outputs": [],
   "source": [
    "# Enter all the folder names that need to be processed \n",
    "sub=['Class 0', 'Class 1', 'Class 2','Class 3','Class 4','Class 5','Class 6','Class 7','Class 8','Class 9']"
   ]
  },
  {
   "cell_type": "code",
   "execution_count": 3,
   "metadata": {},
   "outputs": [
    {
     "name": "stdout",
     "output_type": "stream",
     "text": [
      "Processing Class 0... \n"
     ]
    }
   ],
   "source": [
    "parent=os.getcwd()\n",
    "exten=\"*.wav\"\n",
    "for l,sub_dir in enumerate(sub):\n",
    "    print(\"Processing \"+sub_dir+\"... \")\n",
    "    output=[]\n",
    "    for file in glob.glob(os.path.join(parent,sub_dir,exten)):\n",
    "        f, sr = librosa.load(file,sr=44100)\n",
    "        f=np.array(f)\n",
    "        output=np.concatenate((output, f), axis=None)\n",
    "    sf.write(os.path.join(parent,sub_dir,\"Merged.wav\"), output, sr)\n",
    "\n",
    "        "
   ]
  },
  {
   "cell_type": "code",
   "execution_count": null,
   "metadata": {},
   "outputs": [],
   "source": []
  }
 ],
 "metadata": {
  "kernelspec": {
   "display_name": "Python 3",
   "language": "python",
   "name": "python3"
  },
  "language_info": {
   "codemirror_mode": {
    "name": "ipython",
    "version": 3
   },
   "file_extension": ".py",
   "mimetype": "text/x-python",
   "name": "python",
   "nbconvert_exporter": "python",
   "pygments_lexer": "ipython3",
   "version": "3.8.5"
  }
 },
 "nbformat": 4,
 "nbformat_minor": 5
}
